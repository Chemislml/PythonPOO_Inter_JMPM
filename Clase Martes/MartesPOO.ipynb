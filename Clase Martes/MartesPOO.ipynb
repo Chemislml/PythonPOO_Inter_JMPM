{
  "nbformat": 4,
  "nbformat_minor": 0,
  "metadata": {
    "colab": {
      "provenance": []
    },
    "kernelspec": {
      "name": "python3",
      "display_name": "Python 3"
    },
    "language_info": {
      "name": "python"
    }
  },
  "cells": [
    {
      "cell_type": "markdown",
      "source": [
        "#CLASE MARTES 13\n",
        "#PEREZ MOLINA JOSE MANUEL"
      ],
      "metadata": {
        "id": "ABX0W3d28k0B"
      }
    },
    {
      "cell_type": "code",
      "execution_count": 4,
      "metadata": {
        "id": "c0t-aPDF8fXP"
      },
      "outputs": [],
      "source": [
        "alumno = {'numero_cuenta' : 1232322 , 'carrera' : 'ICO' ,\n",
        "          'direccion' : {'calle' : 'rancho seco', 'numero' : 23},\n",
        "          'telefonos' : ['556745675','2345665465']\n",
        "          }"
      ]
    },
    {
      "cell_type": "code",
      "source": [
        "print (alumno ['direccion']['calle'][3:6:1])\n",
        "print(alumno['telefonos'])\n",
        "print(alumno)\n",
        "alumno['facultad'] = 'FES Aragon'\n",
        "print(alumno)"
      ],
      "metadata": {
        "colab": {
          "base_uri": "https://localhost:8080/"
        },
        "id": "saQU40Ym9rBL",
        "outputId": "ac4b1f0c-8c39-452b-f870-eeee0a6767e8"
      },
      "execution_count": 7,
      "outputs": [
        {
          "output_type": "stream",
          "name": "stdout",
          "text": [
            "cho\n",
            "['556745675', '2345665465']\n",
            "{'numero_cuenta': 1232322, 'carrera': 'ICO', 'direccion': {'calle': 'rancho seco', 'numero': 23}, 'telefonos': ['556745675', '2345665465']}\n",
            "{'numero_cuenta': 1232322, 'carrera': 'ICO', 'direccion': {'calle': 'rancho seco', 'numero': 23}, 'telefonos': ['556745675', '2345665465'], 'facultad': 'FES Aragon'}\n"
          ]
        }
      ]
    },
    {
      "cell_type": "code",
      "source": [
        "#if\n",
        "edad = 20\n",
        "if edad >= 18:\n",
        "    print(\"Eres mayor de edad.\")\n",
        "    print(\"otra cosa\")\n",
        "    print(\"algo mas\")"
      ],
      "metadata": {
        "colab": {
          "base_uri": "https://localhost:8080/"
        },
        "id": "BrHQPDhR-_Qb",
        "outputId": "01005ce6-2baa-449e-a205-3943ead71d0f"
      },
      "execution_count": 10,
      "outputs": [
        {
          "output_type": "stream",
          "name": "stdout",
          "text": [
            "Eres mayor de edad.\n",
            "otra cosa\n",
            "algo mas\n"
          ]
        }
      ]
    },
    {
      "cell_type": "code",
      "source": [
        "# if-esle\n",
        "\n",
        "edad = 15\n",
        "if edad >= 18:\n",
        "    print(\"Eres mayor de edad.\")\n",
        "    print(\"otra cosa\")\n",
        "    print(\"algo mas\")\n",
        "else:\n",
        "    print(\"Eres menor de edad.\")\n",
        "    print(\"otra cosa\")\n",
        "    print(\"algo mas\")"
      ],
      "metadata": {
        "colab": {
          "base_uri": "https://localhost:8080/"
        },
        "id": "-KKzvSlr_WRg",
        "outputId": "21262fe7-efff-481f-bf87-d08fcb0eee6f"
      },
      "execution_count": 11,
      "outputs": [
        {
          "output_type": "stream",
          "name": "stdout",
          "text": [
            "Eres menor de edad.\n",
            "otra cosa\n",
            "algo mas\n"
          ]
        }
      ]
    },
    {
      "cell_type": "code",
      "source": [
        "# if- elif - else\n",
        "edad = 15\n",
        "if edad < 13:\n",
        "    print(\"Eres un niño.\")\n",
        "elif edad < 18:\n",
        "    print(\"Eres un adolescente.\")\n",
        "else:\n",
        "    print(\"Eres un adulto.\")"
      ],
      "metadata": {
        "colab": {
          "base_uri": "https://localhost:8080/"
        },
        "id": "WrmFwZij_yc0",
        "outputId": "566eb023-cd63-4d06-ac2c-0217188a46c4"
      },
      "execution_count": 13,
      "outputs": [
        {
          "output_type": "stream",
          "name": "stdout",
          "text": [
            "Eres un adolescente.\n"
          ]
        }
      ]
    },
    {
      "cell_type": "code",
      "source": [
        "# if-elif-elif, ---seleccion multiple (switch)\n",
        "edad = 20\n",
        "if edad < 13:\n",
        "    print(\"Eres un niño.\")\n",
        "elif edad < 18:\n",
        "    print(\"Eres un adolescente.\")\n",
        "elif edad < 30:\n",
        "    print(\"Eres un joven adulto.\")"
      ],
      "metadata": {
        "colab": {
          "base_uri": "https://localhost:8080/"
        },
        "id": "nZig5vwAAUMI",
        "outputId": "1d3ed203-5467-4812-f6a2-d7e5abefc8d8"
      },
      "execution_count": 14,
      "outputs": [
        {
          "output_type": "stream",
          "name": "stdout",
          "text": [
            "Eres un joven adulto.\n"
          ]
        }
      ]
    },
    {
      "cell_type": "code",
      "source": [
        "# For   for(int = 1 ; i<10 ; i++)\n",
        "\n",
        "for i in range(1, 10, 2):\n",
        "    print(i)"
      ],
      "metadata": {
        "colab": {
          "base_uri": "https://localhost:8080/"
        },
        "id": "yqnFLuOGBj99",
        "outputId": "bfa03d52-6902-4fe0-941d-ebec751c5f59"
      },
      "execution_count": 16,
      "outputs": [
        {
          "output_type": "stream",
          "name": "stdout",
          "text": [
            "1\n",
            "3\n",
            "5\n",
            "7\n",
            "9\n"
          ]
        }
      ]
    },
    {
      "cell_type": "code",
      "source": [
        "frutas = ['piña', 'pera', 'manzana', 'fresa', 'aguacate']\n",
        "for numero in frutas:\n",
        "    print(numero)\n",
        "\n",
        "print(\"---------\")\n",
        "# break y continue\n",
        "for numero in frutas:\n",
        "  if numero == \"manzana\":\n",
        "        break   # ó continue\n",
        "  print(numero)  # imprime la fruta\n",
        "print(\"fin\")"
      ],
      "metadata": {
        "colab": {
          "base_uri": "https://localhost:8080/"
        },
        "id": "qQxdEmhmCTJr",
        "outputId": "648b864e-feac-44bd-9269-76b6d4cb8bbf"
      },
      "execution_count": 23,
      "outputs": [
        {
          "output_type": "stream",
          "name": "stdout",
          "text": [
            "piña\n",
            "pera\n",
            "manzana\n",
            "fresa\n",
            "aguacate\n",
            "---------\n",
            "piña\n",
            "pera\n",
            "fin\n"
          ]
        }
      ]
    },
    {
      "cell_type": "code",
      "source": [
        "tam = 0\n",
        "while tam < 10:\n",
        "  print(tam)\n",
        "  tam = int(input(\"Dame un numero entero:\"))\n",
        "print(\"Final\")"
      ],
      "metadata": {
        "colab": {
          "base_uri": "https://localhost:8080/"
        },
        "id": "Zy_ER4SMDep9",
        "outputId": "f206cb49-3d24-4228-982c-396d822ef6b9"
      },
      "execution_count": 25,
      "outputs": [
        {
          "output_type": "stream",
          "name": "stdout",
          "text": [
            "0\n",
            "Dame un numero entero:11\n",
            "Final\n"
          ]
        }
      ]
    }
  ]
}